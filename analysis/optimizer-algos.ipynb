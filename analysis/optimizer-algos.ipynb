{
  "cells": [
    {
      "cell_type": "code",
      "execution_count": null,
      "metadata": {
        "id": "XMOxnMZNEAf1"
      },
      "outputs": [],
      "source": [
        "pip install qiskit"
      ]
    },
    {
      "cell_type": "code",
      "execution_count": null,
      "metadata": {
        "id": "PPrGJbQ-ELE7"
      },
      "outputs": [],
      "source": [
        "pip install qiskit_optimization"
      ]
    },
    {
      "cell_type": "code",
      "execution_count": null,
      "metadata": {
        "id": "ekZrfkdlI_SN"
      },
      "outputs": [],
      "source": [
        "pip install qiskit_ibm_runtime"
      ]
    },
    {
      "cell_type": "code",
      "execution_count": null,
      "metadata": {
        "id": "sYsh61m9JNmF"
      },
      "outputs": [],
      "source": [
        "pip install qiskit_aer"
      ]
    },
    {
      "cell_type": "code",
      "execution_count": null,
      "metadata": {
        "id": "86HdMSk8TtTP"
      },
      "outputs": [],
      "source": [
        "pip install qiskit_utils"
      ]
    },
    {
      "cell_type": "code",
      "execution_count": null,
      "metadata": {
        "id": "w1Wevaqvje1W"
      },
      "outputs": [],
      "source": [
        "pip install dimod"
      ]
    },
    {
      "cell_type": "code",
      "execution_count": null,
      "metadata": {
        "id": "X4d16D6R7QXj"
      },
      "outputs": [],
      "source": [
        "pip install dwave-ocean-sdk"
      ]
    },
    {
      "cell_type": "code",
      "execution_count": null,
      "metadata": {
        "colab": {
          "base_uri": "https://localhost:8080/"
        },
        "id": "RYytrvqQ-tnF",
        "outputId": "308b4563-b724-4e79-f6eb-b720130884c4"
      },
      "outputs": [
        {
          "name": "stdout",
          "output_type": "stream",
          "text": [
            "\u001b[31mERROR: Could not find a version that satisfies the requirement neal (from versions: none)\u001b[0m\u001b[31m\n",
            "\u001b[0m\u001b[31mERROR: No matching distribution found for neal\u001b[0m\u001b[31m\n",
            "\u001b[0m"
          ]
        }
      ],
      "source": [
        "!pip install neal"
      ]
    },
    {
      "cell_type": "code",
      "execution_count": null,
      "metadata": {
        "id": "8jsYl5JCEJMU"
      },
      "outputs": [],
      "source": [
        "import numpy as np\n",
        "import math\n",
        "\n",
        "from qiskit_algorithms import NumPyMinimumEigensolver\n",
        "from qiskit_optimization import QuadraticProgram\n",
        "from qiskit_optimization.converters import QuadraticProgramToQubo\n",
        "from qiskit_optimization.algorithms import MinimumEigenOptimizer\n",
        "from qiskit_algorithms import QAOA, VQE, Grover\n",
        "from qiskit_algorithms.optimizers import COBYLA\n",
        "from qiskit.primitives import Sampler\n",
        "from qiskit_ibm_runtime import QiskitRuntimeService\n",
        "from qiskit_ibm_runtime import Estimator, Sampler, Session, Options\n",
        "from qiskit_aer import AerSimulator, Aer\n",
        "from typing import Dict, List, Tuple, Any, Optional\n",
        "from qiskit_algorithms.utils import algorithm_globals\n",
        "from qiskit_optimization.algorithms import GroverOptimizer\n",
        "import dimod\n",
        "from dimod import BQM\n",
        "from dwave.system import DWaveSampler, EmbeddingComposite\n",
        "from dwave.samplers import SimulatedAnnealingSampler"
      ]
    },
    {
      "cell_type": "code",
      "execution_count": null,
      "metadata": {
        "id": "rePPBlkGaTJB"
      },
      "outputs": [],
      "source": [
        "class Optimizer:\n",
        "\n",
        "    REQUIRED_PARAMS = []\n",
        "\n",
        "    def __init__(self, params) -> None:\n",
        "\n",
        "        for label in self.REQUIRED_PARAMS:  # make sure we have all the required params\n",
        "            if label not in params:\n",
        "                raise ValueError(f\"Please provide {label} in params.\")\n",
        "\n",
        "        self.params = params.copy()\n",
        "\n",
        "        # self.results: Dict[str, DistributedEnergyOptimizerResults] = {}\n",
        "        self._quadratic_program: Optional[QuadraticProgram] = None\n",
        "        self._linear_terms: Optional[Dict[str, float]] = None\n",
        "        self._quadratic_terms: Optional[Dict[Tuple[str, str], float]] = None\n",
        "        self._offset: Optional[float] = None"
      ]
    },
    {
      "cell_type": "markdown",
      "metadata": {
        "id": "7R5GLnk8JfC4"
      },
      "source": [
        "1. Linear and Quadratic Coeffs\n"
      ]
    },
    {
      "cell_type": "code",
      "execution_count": null,
      "metadata": {
        "id": "niU3EzlaEYKb"
      },
      "outputs": [],
      "source": []
    },
    {
      "cell_type": "markdown",
      "metadata": {
        "id": "PJyZe0rMJeeG"
      },
      "source": [
        "2. Creating the QUBO\n"
      ]
    },
    {
      "cell_type": "code",
      "execution_count": null,
      "metadata": {
        "id": "fW804lsOJoQK"
      },
      "outputs": [],
      "source": [
        "def quadratic_prog_creation(self) -> QuadraticProgram:\n",
        "\n",
        "  qp = QuadraticProgram(name=\"path\")\n",
        "  binary_vars = []\n",
        "\n",
        "  # add binary vars to qubo\n",
        "  for i in binary_vars:\n",
        "    qp.binary_var(name=i)\n",
        "\n",
        "  qp.minimize(linear=self.linear_terms,quadratic=self.quadratic_terms,constant=self.offset) # TODO: offset\n",
        "\n",
        "  return qp"
      ]
    },
    {
      "cell_type": "markdown",
      "metadata": {
        "id": "ohBg_v2DL4IM"
      },
      "source": [
        "3. Solve QUBO"
      ]
    },
    {
      "cell_type": "code",
      "execution_count": null,
      "metadata": {
        "id": "uVgColjGKAkw"
      },
      "outputs": [],
      "source": [
        "def solve_qubo(self, opt_type) -> str:\n",
        "\n",
        "  # set simulator\n",
        "  # simulator = AerSimulator()\n",
        "  # simulator.set_options(seed_simulator=algorithm_globals.random_seed, seed_transpiler=algorithm_globals.random_seed)\n",
        "\n",
        "  # define algorithm\n",
        "  optimizers = {\"qaoa\": QAOA, \"vqe\": VQE}\n",
        "  chosen_optimizer = optimizers[opt_type]\n",
        "  algorithm = chosen_optimizer(sampler=Sampler(), optimizer=COBYLA())\n",
        "\n",
        "  # solve\n",
        "  optimizer=MinimumEigenOptimizer(algorithm)\n",
        "  result = optimizer.solve(self.quadratic_program)"
      ]
    },
    {
      "cell_type": "code",
      "execution_count": null,
      "metadata": {
        "id": "6V1IEY_lc1zx"
      },
      "outputs": [],
      "source": [
        "def run_grover(self):\n",
        "\n",
        "  # set simulator\n",
        "  simulator = AerSimulator()\n",
        "  # simulator.set_options(seed_simulator=algorithm_globals.random_seed, seed_transpiler=algorithm_globals.random_seed)\n",
        "\n",
        "  n = self.params[\"n\"]\n",
        "  N = self.params[\"N\"]\n",
        "  num_qubits = n + N * n\n",
        "\n",
        "  grover_optimizer = GroverOptimizer(num_qubits, num_iterations=10, sampler=simulator)\n",
        "  results = grover_optimizer.solve(self.quadratic_program)\n",
        "  print(results.prettyprint())"
      ]
    },
    {
      "cell_type": "code",
      "execution_count": null,
      "metadata": {
        "id": "sp_yQhx_9Iw1"
      },
      "outputs": [],
      "source": [
        "#fake test!\n",
        "\n",
        "linear_coefficients = {}\n",
        "quadratic_coefficients = {}\n",
        "qp = QuadraticProgram()\n",
        "binary_vars = []\n",
        "\n",
        "weights_matrix = np.zeros((2,2))\n",
        "for i in range(2):\n",
        "  for j in range(2):\n",
        "    weights_matrix[i][j] = i*j + 1\n",
        "\n",
        "for i in range(2):\n",
        "    for j in range(2):\n",
        "        var = qp.binary_var(name=f'x_{i}_{j}')\n",
        "        binary_vars.append(var)\n",
        "        linear_coefficients[f'x_{i}_{j}'] = weights_matrix[i, j]\n",
        "        if j > i:\n",
        "            quadratic_coefficients[(f'x_{i}_{j-1}', f'x_{i+1}_{j}')] = weights_matrix[i, j]"
      ]
    },
    {
      "cell_type": "code",
      "execution_count": null,
      "metadata": {
        "colab": {
          "base_uri": "https://localhost:8080/"
        },
        "id": "ra983pMl9ZWS",
        "outputId": "f45813ae-1473-4f16-b1ca-70d0f8e81f98"
      },
      "outputs": [
        {
          "name": "stdout",
          "output_type": "stream",
          "text": [
            "Best solution: {'x_0_0': 0, 'x_0_1': 0, 'x_1_0': 0, 'x_1_1': 0}\n",
            "Num of the best solution: 0.0\n",
            "Number of occurrences of the best solution: 1\n"
          ]
        }
      ],
      "source": [
        "def run_bqm():\n",
        "\n",
        "vartype = 'BINARY'\n",
        "\n",
        "# define BQM\n",
        "linear_terms, quadratic_terms = linear_coefficients, quadratic_coefficients\n",
        "\n",
        "bqm = dimod.BinaryQuadraticModel(\n",
        "    linear_terms, quadratic_terms, vartype=vartype\n",
        ")\n",
        "\n",
        "sampler = SimulatedAnnealingSampler()\n",
        "response = sampler.sample(bqm, num_reads=100)\n",
        "\n",
        "# Print the best solution\n",
        "print(\"Best solution:\", response.first.sample)\n",
        "\n",
        "# Print the energy of the best solution\n",
        "print(\"Num of the best solution:\", response.first.energy)\n",
        "\n",
        "# Print the number of occurrences of the best solution\n",
        "print(\"Number of occurrences of the best solution:\", response.first.num_occurrences)"
      ]
    },
    {
      "cell_type": "code",
      "execution_count": null,
      "metadata": {
        "id": "FRtSwbEiNpHH"
      },
      "outputs": [],
      "source": [
        "def run_qaoa(self):\n",
        "  solve_qubo(self, \"qaoa\")\n",
        "\n",
        "def run_qaoa(self):\n",
        "  solve_qubo(self, \"vqe\")"
      ]
    }
  ],
  "metadata": {
    "colab": {
      "provenance": []
    },
    "kernelspec": {
      "display_name": "Python 3",
      "name": "python3"
    },
    "language_info": {
      "name": "python"
    }
  },
  "nbformat": 4,
  "nbformat_minor": 0
}

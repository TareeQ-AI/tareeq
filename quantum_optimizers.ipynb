{
  "nbformat": 4,
  "nbformat_minor": 0,
  "metadata": {
    "colab": {
      "provenance": []
    },
    "kernelspec": {
      "name": "python3",
      "display_name": "Python 3"
    },
    "language_info": {
      "name": "python"
    }
  },
  "cells": [
    {
      "cell_type": "code",
      "execution_count": null,
      "metadata": {
        "id": "XMOxnMZNEAf1"
      },
      "outputs": [],
      "source": [
        "pip install qiskit"
      ]
    },
    {
      "cell_type": "code",
      "source": [
        "pip install qiskit_optimization"
      ],
      "metadata": {
        "id": "PPrGJbQ-ELE7"
      },
      "execution_count": null,
      "outputs": []
    },
    {
      "cell_type": "code",
      "source": [
        "pip install qiskit_ibm_runtime"
      ],
      "metadata": {
        "id": "ekZrfkdlI_SN"
      },
      "execution_count": null,
      "outputs": []
    },
    {
      "cell_type": "code",
      "source": [
        "pip install qiskit_aer"
      ],
      "metadata": {
        "id": "sYsh61m9JNmF"
      },
      "execution_count": null,
      "outputs": []
    },
    {
      "cell_type": "code",
      "source": [
        "pip install qiskit_utils"
      ],
      "metadata": {
        "id": "86HdMSk8TtTP"
      },
      "execution_count": null,
      "outputs": []
    },
    {
      "cell_type": "code",
      "source": [
        "pip install dimod"
      ],
      "metadata": {
        "id": "w1Wevaqvje1W"
      },
      "execution_count": null,
      "outputs": []
    },
    {
      "cell_type": "code",
      "source": [
        "pip install dwave-ocean-sdk"
      ],
      "metadata": {
        "id": "X4d16D6R7QXj"
      },
      "execution_count": null,
      "outputs": []
    },
    {
      "cell_type": "code",
      "source": [
        "pip install networkx matplotlib"
      ],
      "metadata": {
        "id": "RYytrvqQ-tnF"
      },
      "execution_count": null,
      "outputs": []
    },
    {
      "cell_type": "code",
      "source": [
        "import numpy as np\n",
        "import math\n",
        "\n",
        "from qiskit_algorithms import NumPyMinimumEigensolver\n",
        "from qiskit_optimization import QuadraticProgram\n",
        "from qiskit_optimization.converters import QuadraticProgramToQubo\n",
        "from qiskit_optimization.algorithms import MinimumEigenOptimizer\n",
        "from qiskit_algorithms import QAOA, VQE, Grover\n",
        "from qiskit_algorithms.optimizers import COBYLA\n",
        "from qiskit.primitives import Sampler\n",
        "from qiskit_ibm_runtime import QiskitRuntimeService\n",
        "from qiskit_ibm_runtime import Estimator, Sampler, Session, Options\n",
        "from qiskit_aer import AerSimulator, Aer\n",
        "from typing import Dict, List, Tuple, Any, Optional\n",
        "from qiskit_algorithms.utils import algorithm_globals\n",
        "from qiskit_optimization.algorithms import GroverOptimizer\n",
        "import dimod\n",
        "from dimod import BQM\n",
        "from dwave.system import DWaveSampler, EmbeddingComposite\n",
        "from dwave.samplers import SimulatedAnnealingSampler"
      ],
      "metadata": {
        "id": "8jsYl5JCEJMU"
      },
      "execution_count": 9,
      "outputs": []
    },
    {
      "cell_type": "code",
      "source": [
        "class Optimizer:\n",
        "\n",
        "    REQUIRED_PARAMS = []\n",
        "\n",
        "    def __init__(self, params) -> None:\n",
        "\n",
        "        for label in self.REQUIRED_PARAMS:  # make sure we have all the required params\n",
        "            if label not in params:\n",
        "                raise ValueError(f\"Please provide {label} in params.\")\n",
        "\n",
        "        self.params = params.copy()\n",
        "\n",
        "        # self.results: Dict[str, DistributedEnergyOptimizerResults] = {}\n",
        "        self._quadratic_program: Optional[QuadraticProgram] = None\n",
        "        self._linear_terms: Optional[Dict[str, float]] = None\n",
        "        self._quadratic_terms: Optional[Dict[Tuple[str, str], float]] = None\n",
        "        self._offset: Optional[float] = None\n",
        "\n",
        "    def solve_qubo(self, opt_type) -> str:\n",
        "      # define algorithm\n",
        "      optimizers = {\"qaoa\": QAOA, \"vqe\": VQE}\n",
        "      chosen_optimizer = optimizers[opt_type]\n",
        "      sampler = Sampler(backend=Aer.get_backend(\"qasm_simulator\"))\n",
        "      algorithm = chosen_optimizer(sampler=sampler, optimizer=COBYLA())\n",
        "\n",
        "      # solve\n",
        "      optimizer=MinimumEigenOptimizer(algorithm)\n",
        "      result = optimizer.solve(self.quadratic_program)\n",
        "      print(result)\n",
        "\n",
        "    def quadratic_prog_creation(self) -> QuadraticProgram:\n",
        "      qp = QuadraticProgram(name=\"path\")\n",
        "      binary_vars = []\n",
        "\n",
        "      # add binary vars to qubo\n",
        "      for i in binary_vars:\n",
        "        qp.binary_var(name=i)\n",
        "\n",
        "      qp.minimize(linear=self.linear_terms,quadratic=self.quadratic_terms) # TODO: offset\n",
        "\n",
        "      return qp"
      ],
      "metadata": {
        "id": "rePPBlkGaTJB"
      },
      "execution_count": 10,
      "outputs": []
    },
    {
      "cell_type": "markdown",
      "source": [
        "## Input Graphs Generation\n"
      ],
      "metadata": {
        "id": "w2jteUkDtDAT"
      }
    },
    {
      "cell_type": "code",
      "source": [
        "class Node:\n",
        "    def __init__(self, index, delta_j):\n",
        "        self.index = index\n",
        "        self.delta_j = delta_j\n",
        "\n",
        "class Edge:\n",
        "    def __init__(self, node1, node2, discretization_value, volume):\n",
        "        self.node1 = node1\n",
        "        self.node2 = node2\n",
        "        self.discretization_value = discretization_value\n",
        "        self.volume = volume\n",
        "     #(create_volumes([(0, 1), (1, 0)], 2, [3, 4], [1, 1], [1, 1]))\n",
        "def create_volumes(edges, num_cities, discretization_vals, delta_j, volumes):\n",
        "  nodes = []\n",
        "  for i in range(num_cities):\n",
        "    node = Node(i, delta_j[i])\n",
        "    nodes.append(node)\n",
        "\n",
        "  connected_cities = [[] for _ in range(num_cities)]\n",
        "\n",
        "  for i, node in enumerate(nodes):\n",
        "    cities = []\n",
        "    for j, edge in enumerate(edges):\n",
        "        if i == edge[0]:\n",
        "            print(i, \"i\")\n",
        "            print(j, \"j\")\n",
        "            new_e = Edge(node, nodes[edge[1]], discretization_vals[j], volumes[i])\n",
        "            connected_cities[i].append(new_e)\n",
        "\n",
        "  constraints = []\n",
        "\n",
        "  for big_city in nodes:\n",
        "    shipments_out = 0\n",
        "    shipments_in = 0\n",
        "\n",
        "    #shipments out\n",
        "    for out_city in connected_cities[big_city.index]:\n",
        "      shipments_out += int(out_city.volume / out_city.discretization_value)\n",
        "\n",
        "    #shipments in\n",
        "    for connections in connected_cities:\n",
        "      for j in connections:\n",
        "        if j.node2.index == big_city.index:\n",
        "          shipments_in += int(j.volume / j.discretization_value)\n",
        "          print(\"j.vol, dis\", j.volume, j.discretization_value)\n",
        "\n",
        "    print(\"ship in\", shipments_in, big_city.index)\n",
        "    print(\"ship out\", shipments_out, big_city.index)\n",
        "\n",
        "    constraints.append(shipments_in - shipments_out + delta_j[big_city.index])\n",
        "  return constraints\n",
        "\n",
        "num_cities = 4\n",
        "edges = [(0, 1), (1, 2), (2, 3), (3, 0)]\n",
        "discretization_vals = [30, 60, 20, 10] #edges\n",
        "delta_j = [5, 10, -5, -3] #city\n",
        "volumes = [90, 420, 90, 30]\n",
        "\n",
        "print(create_volumes(edges, num_cities, discretization_vals, delta_j, volumes))"
      ],
      "metadata": {
        "id": "kOLCxXm6ykK-"
      },
      "execution_count": null,
      "outputs": []
    },
    {
      "cell_type": "markdown",
      "source": [
        "## QAOA Algorithm"
      ],
      "metadata": {
        "id": "-WGd5rhVx5fn"
      }
    },
    {
      "cell_type": "code",
      "source": [
        "# QAOA\n",
        "\n",
        "optimizer = Optimizer([])\n",
        "\n",
        "num_cities = 4\n",
        "edges = [(0, 1), (1, 2), (2, 3), (3, 0)]\n",
        "discretization_vals = [3, 6, 2, 1] #edges\n",
        "delta_j = [5, 10, -5, -3] #city\n",
        "volumes = [9, 42, 9, 3]\n",
        "\n",
        "optimizer.linear_terms = {}\n",
        "optimizer.quadratic_terms = {}\n",
        "qp = QuadraticProgram()\n",
        "\n",
        "weights_matrix = np.array([0, 0, 0, 0])\n",
        "\n",
        "constraints = create_volumes(edges, num_cities, discretization_vals, delta_j, volumes)\n",
        "\n",
        "max_val = 0\n",
        "for c in constraints:\n",
        "  max_val += c\n",
        "\n",
        "for i in range(num_cities):\n",
        "  qp.integer_var(name=str(i), lowerbound=0, upperbound=max_val)\n",
        "\n",
        "for i in range(num_cities):\n",
        "  optimizer.linear_terms[f'{i}'] = weights_matrix[i]\n",
        "\n",
        "qp.maximize(linear=optimizer.linear_terms)\n",
        "\n",
        "for i, c in enumerate(constraints):\n",
        "  if c < 0:\n",
        "    qp.linear_constraint(linear={str(i): 1}, sense=\">=\", rhs=c)\n",
        "  else:\n",
        "    qp.linear_constraint(linear={str(i): 1}, sense=\"<=\", rhs=c)\n",
        "\n",
        "qp.linear_constraint(linear={\"0\": 1, \"1\": 1, \"2\":1, \"3\":1}, sense=\"==\", rhs=max_val)\n",
        "\n",
        "sampler1 = Sampler(backend=Aer.get_backend(\"qasm_simulator\"))\n",
        "foptimizer = MinimumEigenOptimizer(QAOA(sampler=sampler1, optimizer=COBYLA()))\n",
        "\n",
        "result = foptimizer.solve(qp)\n",
        "\n",
        "output_vals = prettier_print(result.prettyprint())\n",
        "\n",
        "graph(edges, num_cities, constraints, output_vals)\n",
        "\n",
        "output(output_vals)"
      ],
      "metadata": {
        "id": "8tuzExp6nMne"
      },
      "execution_count": null,
      "outputs": []
    },
    {
      "cell_type": "markdown",
      "source": [
        "##Output Generation\n"
      ],
      "metadata": {
        "id": "z265d5FHx02_"
      }
    },
    {
      "cell_type": "code",
      "source": [
        "def output(output_vals, disc, delta_j):\n",
        "  length = len(output_vals)\n",
        "\n",
        "  saved = [0,0,0,0,0]\n",
        "\n",
        "  to_send = []\n",
        "  num_cities=4\n",
        "  for i in range(length):\n",
        "      val = delta_j[i] + saved[i] - int(float(output_vals[i]))\n",
        "      to_send.append(val)\n",
        "      saved[i+1] = to_send[i]\n",
        "\n",
        "      print(\"send load of quantity \", to_send[i], \" from \", num_cities-(num_cities-i), \" to \", 1+num_cities-(num_cities-i))\n",
        "      print(\"     will require\", int(round(to_send[i] / disc[i])), \" vehicles\")"
      ],
      "metadata": {
        "id": "1XsuNWWXr2Bs"
      },
      "execution_count": 22,
      "outputs": []
    },
    {
      "cell_type": "code",
      "source": [
        "def prettier_print(result) -> List[int]:\n",
        "  parts = result.split(\"\\n\")\n",
        "\n",
        "  # Extract variable values for each city\n",
        "  variable_values = [part.split(\": \")[1] for part in parts if \"variable values\" in part]\n",
        "\n",
        "  # Extract volume values for each city\n",
        "  cities = [val.split(\", \") for val in variable_values]\n",
        "  outputs = []\n",
        "  # Print the volume for each city\n",
        "  for city in cities:\n",
        "      for var in city:\n",
        "          index, value = var.split(\"=\")\n",
        "          print(f\"City {index} has {value} volume\")\n",
        "          outputs.append(value)\n",
        "  return outputs"
      ],
      "metadata": {
        "id": "B2iKGZD0GbYg"
      },
      "execution_count": 14,
      "outputs": []
    },
    {
      "cell_type": "markdown",
      "source": [
        "## Graph Generation"
      ],
      "metadata": {
        "id": "DBPq2fPqxxQh"
      }
    },
    {
      "cell_type": "code",
      "source": [
        "import networkx as nx\n",
        "import matplotlib.pyplot as plt\n",
        "\n",
        "# Define a function to draw the graph with node numbers\n",
        "def draw_graph(graph, node_numbers, title, pos):\n",
        "    nx.draw(graph, pos, with_labels=False, node_color='lightgray', connectionstyle=\"arc3,rad=0.1\", arrows=True)\n",
        "    nx.draw_networkx_labels(graph, pos, labels=node_numbers)\n",
        "\n",
        "    plt.title(title)\n",
        "    plt.show()\n",
        "\n",
        "def graph(edges, num_cities, constraints, output_vals):\n",
        "\n",
        "  input_graph = nx.DiGraph()\n",
        "  input_graph.add_nodes_from(range(num_cities))\n",
        "  for i, (u, v) in enumerate(edges):\n",
        "    arc_rad = 0.5\n",
        "    input_graph.add_edge(u, v, key=f'edge{i}', connectionstyle=f'arc3, rad = {arc_rad}')\n",
        "\n",
        "# Assign the input numbers to the nodes\n",
        "  input_node_numbers = {}\n",
        "  for i, constraint in enumerate(constraints):\n",
        "    input_node_numbers[i] = int(float(constraint))\n",
        "\n",
        "# Define the output graph (after running your algorithm)\n",
        "  output_graph = nx.DiGraph()\n",
        "  output_graph.add_nodes_from(range(num_cities))\n",
        "  output_graph.add_edges_from(edges)\n",
        "  output_node_numbers = {}\n",
        "# Assign the output numbers to the nodes\n",
        "  for i, val in enumerate(output_vals):\n",
        "    output_node_numbers[i] = int(float(val))\n",
        "\n",
        "\n",
        "  # Draw the input graph\n",
        "  pos = nx.spring_layout(input_graph, scale=0.5)\n",
        "  draw_graph(input_graph, input_node_numbers, \"Original Volumes\", pos)\n",
        "\n",
        "  # Draw the output graph\n",
        "  draw_graph(output_graph, output_node_numbers, \"Optimized Volumes\", pos)\n"
      ],
      "metadata": {
        "id": "2tMuir1xq2kJ"
      },
      "execution_count": 15,
      "outputs": []
    },
    {
      "cell_type": "markdown",
      "source": [
        "## BQM Algorithm\n"
      ],
      "metadata": {
        "id": "CbIkhx_KyCSr"
      }
    },
    {
      "cell_type": "code",
      "source": [
        "def run_bqm():\n",
        "  vartype = 'BINARY'\n",
        "\n",
        "  num_cities = 3\n",
        "  edges = [(0, 1), (1, 0), (2, 1)]\n",
        "  discretization_vals = [2, 7, 1]\n",
        "  delta_j = [1, 1, 1]\n",
        "  volumes = [1, 1, 1]\n",
        "\n",
        "  weights_matrix = np.array([10, 0, 10])\n",
        "\n",
        "  constraints = create_volumes(edges, num_cities, discretization_vals, delta_j, volumes)\n",
        "\n",
        "  max_val = 0\n",
        "  for c in constraints:\n",
        "    max_val += c\n",
        "\n",
        "  linear_terms = {}\n",
        "  quadratic_terms = {}\n",
        "\n",
        "  for i in range(num_cities):\n",
        "    linear_terms[f'{i}'] = weights_matrix[i]\n",
        "\n",
        "  bqm = dimod.BinaryQuadraticModel(linear_terms, quadratic_terms, vartype=vartype)\n",
        "\n",
        "  for i in range(num_cities):\n",
        "    bqm.add_variable(str(i))\n",
        "\n",
        "  # for i, c in enumerate(constraints):\n",
        "    # if c < 0:\n",
        "      # bqm.add_linear_inequality_constraint([(str(i), 1)], ub=c, lb=-20, lagrange_multiplier=1.0, label={i})\n",
        "    # else:\n",
        "    #   bqm.add_linear_inequality_constraint((str(i), 1), ub=c)\n",
        "\n",
        "  bqm.add_linear_equality_constraint([(\"0\", 1), (\"1\", 1), (\"2\", 1)], constant=max_val, lagrange_multiplier=1)\n",
        "\n",
        "  sampler = SimulatedAnnealingSampler()\n",
        "  response = sampler.sample(bqm, num_reads=100)\n",
        "\n",
        "  # Print the best solution\n",
        "  print(\"Best solution:\", response.first.sample)\n",
        "\n",
        "  # Print the energy of the best solution\n",
        "  print(\"Num of the best solution:\", response.first.energy)\n",
        "\n",
        "  # Print the number of occurrences of the best solution\n",
        "  print(\"Number of occurrences of the best solution:\", response.first.num_occurrences)\n",
        "\n",
        "run_bqm()"
      ],
      "metadata": {
        "id": "43F2FpmNyA6q"
      },
      "execution_count": null,
      "outputs": []
    },
    {
      "cell_type": "markdown",
      "source": [
        "Grover Algorithm"
      ],
      "metadata": {
        "id": "r1i4YWsQyORB"
      }
    },
    {
      "cell_type": "code",
      "source": [
        "def run_grover(self):\n",
        "\n",
        "  # set simulator\n",
        "  sampler = Sampler(backend=Aer.get_backend(\"qasm_simulator\"))\n",
        "\n",
        "  n = self.params[\"n\"]\n",
        "  N = self.params[\"N\"]\n",
        "  num_qubits = n + N * n\n",
        "\n",
        "  grover_optimizer = GroverOptimizer(num_qubits, num_iterations=10, sampler=sampler)\n",
        "  results = grover_optimizer.solve(self.quadratic_program)\n",
        "  print(results)"
      ],
      "metadata": {
        "id": "3_8S5n8zyNrg"
      },
      "execution_count": null,
      "outputs": []
    }
  ]
}
